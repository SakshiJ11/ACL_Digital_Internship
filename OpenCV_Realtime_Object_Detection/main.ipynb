{
 "cells": [
  {
   "cell_type": "code",
   "execution_count": 5,
   "metadata": {},
   "outputs": [
    {
     "name": "stderr",
     "output_type": "stream",
     "text": [
      "[ WARN:0@306.274] global loadsave.cpp:241 findDecoder imread_('OpenCV_Realtime_Object_Detection/watermarked_image.png'): can't open/read file: check file path/integrity\n"
     ]
    },
    {
     "ename": "AttributeError",
     "evalue": "'NoneType' object has no attribute 'shape'",
     "output_type": "error",
     "traceback": [
      "\u001b[0;31m---------------------------------------------------------------------------\u001b[0m",
      "\u001b[0;31mAttributeError\u001b[0m                            Traceback (most recent call last)",
      "Cell \u001b[0;32mIn[5], line 5\u001b[0m\n\u001b[1;32m      3\u001b[0m path_watermark \u001b[38;5;241m=\u001b[39m \u001b[38;5;124m'\u001b[39m\u001b[38;5;124mOpenCV_Realtime_Object_Detection/watermarked_image.png\u001b[39m\u001b[38;5;124m'\u001b[39m\n\u001b[1;32m      4\u001b[0m logo \u001b[38;5;241m=\u001b[39m cv2\u001b[38;5;241m.\u001b[39mimread(path_watermark)\n\u001b[0;32m----> 5\u001b[0m h_logo,w_logo,_ \u001b[38;5;241m=\u001b[39m \u001b[43mlogo\u001b[49m\u001b[38;5;241;43m.\u001b[39;49m\u001b[43mshape\u001b[49m\n\u001b[1;32m      7\u001b[0m path_img \u001b[38;5;241m=\u001b[39m \u001b[38;5;124m'\u001b[39m\u001b[38;5;124mResources/Face2.jpg\u001b[39m\u001b[38;5;124m'\u001b[39m\n\u001b[1;32m      8\u001b[0m img \u001b[38;5;241m=\u001b[39m cv2\u001b[38;5;241m.\u001b[39mimread(path_img)\n",
      "\u001b[0;31mAttributeError\u001b[0m: 'NoneType' object has no attribute 'shape'"
     ]
    }
   ],
   "source": [
    "import cv2 \n",
    "import numpy as np \n",
    "path_watermark = 'OpenCV_Realtime_Object_Detection/watermarked_image.png'\n",
    "logo = cv2.imread(path_watermark)\n",
    "h_logo,w_logo,_ = logo.shape\n",
    "\n",
    "path_img = 'Resources/Face2.jpg'\n",
    "img = cv2.imread(path_img)\n",
    "h_img,w_img,_ = img.shape\n",
    "\n",
    "# Coordinates for water mark\n",
    "if h_img>h_logo and w_img>w_logo:\n",
    "    gap_x,gap_y = 25,20\n",
    "else:\n",
    "    logo = cv2.resize(logo,(int(h_img/3),int(w_img/3)))\n",
    "    h_logo,w_logo,_ = logo.shape\n",
    "    gap_x,gap_y = 5,2\n",
    "\n",
    "top_y = h_img - gap_y - h_logo\n",
    "left_x = gap_x\n",
    "bottom_y = h_img - gap_y\n",
    "right_x = gap_x + w_logo\n",
    "\n",
    "\n",
    "\n",
    "roi = img[top_y:bottom_y,left_x:right_x]\n",
    "result = cv2.addWeighted(roi,1,logo,0.5,0)\n",
    "img[top_y:bottom_y,left_x:right_x] = result\n",
    "cv2.imshow('Image',img)\n",
    "cv2.imwrite(path_img.split('/')[1],img)\n",
    "cv2.waitKey(0)"
   ]
  },
  {
   "cell_type": "code",
   "execution_count": null,
   "metadata": {},
   "outputs": [],
   "source": []
  }
 ],
 "metadata": {
  "kernelspec": {
   "display_name": "Python 3",
   "language": "python",
   "name": "python3"
  },
  "language_info": {
   "codemirror_mode": {
    "name": "ipython",
    "version": 3
   },
   "file_extension": ".py",
   "mimetype": "text/x-python",
   "name": "python",
   "nbconvert_exporter": "python",
   "pygments_lexer": "ipython3",
   "version": "3.10.12"
  }
 },
 "nbformat": 4,
 "nbformat_minor": 2
}
